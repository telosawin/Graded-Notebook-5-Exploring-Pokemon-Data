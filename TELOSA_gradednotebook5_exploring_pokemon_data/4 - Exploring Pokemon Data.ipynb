{
 "cells": [
  {
   "cell_type": "markdown",
   "metadata": {},
   "source": [
    "# Exploring Pokemon Data\n",
    "In this Notebook, we will be exploring our first dataset - the [Pokemon](https://www.kaggle.com/mariotormo/complete-pokemon-dataset-updated-090420) data. In the process of exploring this data, we will be covering basics on reading, processing, analyzing, and visualizing simple tabular datasets.\n",
    "\n",
    "Our Notebooks in CSMODEL are designed to be guided learning activities. To use them, simply go through the cells from top to bottom, following the directions along the way. If you find any unclear parts or mistakes in the Notebooks, email your instructor.\n",
    "\n",
    "--------------------------------------------------------\n",
    "\n",
    "*Name:* Arwyn Gabrielle A. Telosa (12209228) <br>\n",
    "*Course:* BS Computer Science Major in Network and Information Secuirty (BSCS-NIS) <br>"
   ]
  },
  {
   "cell_type": "markdown",
   "metadata": {},
   "source": [
    "## Instructions\n",
    "* Read each cell and implement the TODOs sequentially. The markdown/text cells also contain instructions which you need to follow to get the whole notebook working.\n",
    "* Do not change the variable names unless the instructor allows you to.\n",
    "* Answer all the markdown/text cells with 'Question #' on them. The answer must strictly consume one line only.\n",
    "* You are expected to search how to some functions work on the Internet or via the docs. \n",
    "* The notebooks will undergo a 'Restart and Run All' command, so make sure that your code is working properly.\n",
    "* You are expected to understand the dataset loading and processing separately from this class.\n",
    "* You may not reproduce this notebook or share them to anyone."
   ]
  },
  {
   "cell_type": "markdown",
   "metadata": {},
   "source": [
    "## `pandas` and `matplotlib`\n",
    "* **`pandas`** is a software library for Python that is designed for data manipulation and data analysis. \n",
    "* **`matplotlib`** is a software libary for data visualization, which allows us to easily render various types of graphs. \n",
    "\n",
    "We will be using these two libraries in this Notebook."
   ]
  },
  {
   "cell_type": "code",
   "execution_count": 46,
   "metadata": {},
   "outputs": [],
   "source": [
    "import numpy as np\n",
    "import pandas as pd\n",
    "import matplotlib.pyplot as plt\n",
    "\n",
    "# sets the theme of the charts\n",
    "plt.style.use('seaborn-v0_8-darkgrid')\n",
    "\n",
    "%matplotlib inline"
   ]
  },
  {
   "cell_type": "markdown",
   "metadata": {},
   "source": [
    "The `%matplotlib inline` command allows for the visualization charts from `matplotlib` to be automatically rendered and displayed in the Notebook.\n",
    "\n",
    "Additionally, you can also customize or choose the theme you'd like to use with `matplotlib` using the `plt.style.use()` command. See the [style sheets reference](https://matplotlib.org/stable/gallery/style_sheets/style_sheets_reference.html) from `matplotlib` for more options."
   ]
  },
  {
   "cell_type": "markdown",
   "metadata": {},
   "source": [
    "## The Dataset\n",
    "For this notebook, we will working on a dataset called `pokemon`. This dataset contains 890 known pokemon until 8th Generation and its varieties.\n",
    "\n",
    "The dataset is provided to you as a `.csv` file. `.csv` means comma-separated values. You can open the file in Notepad to see how it is exactly formatted."
   ]
  },
  {
   "cell_type": "markdown",
   "metadata": {},
   "source": [
    "If you view the `.csv` file in Excel, you can see that our dataset contains many **observations** (rows) across 48 **variables** (columns). The following are the descriptions of each variable in the dataset.\n",
    "\n",
    "- **`pokedex_number`**: entry number of the Pokemon in the National Pokedex\n",
    "- **`name`**: English name of the Pokemon\n",
    "- **`generation`**: numbered generation which the Pokemon was first introduced\n",
    "- **`status`**: denotes if the Pokemon is normal, sub legendary, legendary or mythical\n",
    "- **`species`**: category of the Pokemon\n",
    "- **`type_number`**: number of types that the Pokemon has\n",
    "- **`type_1`**: primary type of the Pokemon\n",
    "- **`type_2`**: secondary type of the Pokemon (if any)\n",
    "- **`height_m`**: height of the Pokemon in meters\n",
    "- **`weight_kg`**: weight of the Pokemon in kilograms\n",
    "- **`abilities_number`**: the number of abilities of the Pokemon\n",
    "- **`ability_1`**: ability of the Pokemon\n",
    "- **`ability_2`**: another ability of the Pokemon (if any)\n",
    "- **`ability_hidden`**: hidden ability of the Pokemon (if any)\n",
    "- **`total_points`**: total number of base points\n",
    "- **`hp`**: base HP of the Pokemon\n",
    "- **`attack`**: base attack of the Pokemon\n",
    "- **`defense`**: base defense of the Pokemon\n",
    "- **`sp_attack`**: base special attack of the pokemon\n",
    "- **`sp_defense`**: base special defense of the Pokemon\n",
    "- **`speed`**: base speed of the Pokemon\n",
    "- **`catch_rate`**: catch rate of the Pokemon\n",
    "- **`base_friendship`**: base friendship of the Pokemon\n",
    "- **`base_experience`**: base experience of a wild Pokemon when caught\n",
    "- **`growth_rate`**: growth rate of the Pokemon\n",
    "- **`egg_type_number`**: number of groups where a Pokemon can hatch\n",
    "- **`egg_type_1`**: name of an egg group where a Pokemon can hatch\n",
    "- **`egg_type_2`**: name of an egg group where a Pokemon can hatch\n",
    "- **`percentage_male`**: percentage of the species that are male, blank if the Pokemon is genderless.\n",
    "- **`egg_cycles`**: number of cycles (255-257 steps) required to hatch an egg of the Pokemon\n",
    "- **`against_normal`**: denote the amount of damage taken against an attack of a normal Pokemon\n",
    "- **`against_fire`**: denote the amount of damage taken against an attack of a fire Pokemon\n",
    "- **`against_water`**: denote the amount of damage taken against an attack of a water Pokemon\n",
    "- **`against_electric`**: denote the amount of damage taken against an attack of an electric Pokemon\n",
    "- **`against_grass`**: denote the amount of damage taken against an attack of a grass Pokemon\n",
    "- **`against_ice`**: denote the amount of damage taken against an attack of an ice Pokemon\n",
    "- **`against_fight`**: denote the amount of damage taken against an attack of a fighting Pokemon\n",
    "- **`against_poison`**: denote the amount of damage taken against an attack of a poison Pokemon\n",
    "- **`against_ground`**: denote the amount of damage taken against an attack of a ground Pokemon\n",
    "- **`against_flying`**: denote the amount of damage taken against an attack of a flying Pokemon\n",
    "- **`against_psychic`**: denote the amount of damage taken against an attack of a psychic Pokemon\n",
    "- **`against_bug`**: denote the amount of damage taken against an attack of a bug Pokemon\n",
    "- **`against_rock`**: denote the amount of damage taken against an attack of a rock Pokemon\n",
    "- **`against_ghost`**: denote the amount of damage taken against an attack of a ghost Pokemon\n",
    "- **`against_dragon`**: denote the amount of damage taken against an attack of a dragon Pokemon\n",
    "- **`against_dark`**: denote the amount of damage taken against an attack of a dark Pokemon\n",
    "- **`against_steel`**: denote the amount of damage taken against an attack of a steel Pokemon\n",
    "- **`against_fairy`**: denote the amount of damage taken against an attack of a fairy Pokemon"
   ]
  },
  {
   "cell_type": "markdown",
   "metadata": {},
   "source": [
    "## Reading the Dataset"
   ]
  },
  {
   "cell_type": "markdown",
   "metadata": {},
   "source": [
    "Our first step is to load the dataset using `pandas`. This will load the dataset into a pandas `DataFrame`. To load the dataset, we use the [`read_csv`](https://pandas.pydata.org/pandas-docs/stable/reference/api/pandas.read_csv.html) function. Note that you may need to change the path depending on the location of the file in your machine."
   ]
  },
  {
   "cell_type": "code",
   "execution_count": 47,
   "metadata": {},
   "outputs": [],
   "source": [
    "pokemon_df = pd.read_csv('pokemon.csv')"
   ]
  },
  {
   "cell_type": "markdown",
   "metadata": {},
   "source": [
    "The dataset should now be loaded in the `pokemon_df` variable. `pokemon_df` is a [`DataFrame`](https://pandas.pydata.org/pandas-docs/stable/reference/api/pandas.DataFrame.html). It is a data structure for storing tabular data, and the main data structure used in pandas."
   ]
  },
  {
   "cell_type": "markdown",
   "metadata": {},
   "source": [
    "Whenever we load a new dataset, it is generally a good idea to call the [`info`](https://pandas.pydata.org/pandas-docs/stable/reference/api/pandas.DataFrame.info.html) function, which displays general information about the dataset."
   ]
  },
  {
   "cell_type": "code",
   "execution_count": 48,
   "metadata": {},
   "outputs": [],
   "source": [
    "pokemon_df.info()"
   ]
  },
  {
   "cell_type": "markdown",
   "metadata": {},
   "source": [
    "**Question #1:** How many observations are there in the dataset?\n",
    "\n",
    "Answer: 1028"
   ]
  },
  {
   "cell_type": "markdown",
   "metadata": {},
   "source": [
    "**Question #2:** How many variables are there in the dataset?\n",
    "\n",
    "Answer: 48"
   ]
  },
  {
   "cell_type": "markdown",
   "metadata": {},
   "source": [
    "**Question #3:** What is the data type of the `hp` column?\n",
    "\n",
    "Answer: int64"
   ]
  },
  {
   "cell_type": "markdown",
   "metadata": {},
   "source": [
    "We can call the [`head`](https://pandas.pydata.org/pandas-docs/stable/reference/api/pandas.DataFrame.head.html) function to display the first `n` rows of the dataset."
   ]
  },
  {
   "cell_type": "code",
   "execution_count": 49,
   "metadata": {},
   "outputs": [],
   "source": [
    "pokemon_df.head(10)"
   ]
  },
  {
   "cell_type": "markdown",
   "metadata": {},
   "source": [
    "We can call also call the [`tail`](https://pandas.pydata.org/pandas-docs/stable/reference/api/pandas.DataFrame.tail.html) function to display the last `n` rows of the dataset.\n",
    "\n",
    "Use the tail function to find out what is the type of the **last** row in the dataset."
   ]
  },
  {
   "cell_type": "code",
   "execution_count": 50,
   "metadata": {},
   "outputs": [],
   "source": [
    "# Write your code here\n",
    "pokemon_df.tail(1)"
   ]
  },
  {
   "cell_type": "markdown",
   "metadata": {},
   "source": [
    "**Question #4:** What is/are the type/s of the Pokemon in last row of the dataset?\n",
    "\n",
    "Answer: Poison & Dragon"
   ]
  },
  {
   "cell_type": "markdown",
   "metadata": {},
   "source": [
    "We can get the columns of the dataset by accessing the [`columns`](https://pandas.pydata.org/pandas-docs/stable/reference/api/pandas.DataFrame.columns.html) property of the `DataFrame`."
   ]
  },
  {
   "cell_type": "code",
   "execution_count": 51,
   "metadata": {},
   "outputs": [],
   "source": [
    "pokemon_df.columns"
   ]
  },
  {
   "cell_type": "markdown",
   "metadata": {},
   "source": [
    "## Exploratory Data Analysis"
   ]
  },
  {
   "cell_type": "markdown",
   "metadata": {},
   "source": [
    "The `pokemon` dataframe is a massive trove of information. Let's think about some questions we might want to answer with these data."
   ]
  },
  {
   "cell_type": "markdown",
   "metadata": {},
   "source": [
    "### Which type has the highest number of Pokemons?"
   ]
  },
  {
   "cell_type": "markdown",
   "metadata": {},
   "source": [
    "To answer this question, the variable of interest is:\n",
    "- **`type_1`**: primary type of the Pokemon"
   ]
  },
  {
   "cell_type": "markdown",
   "metadata": {},
   "source": [
    "We can select a specific column from a `DataFrame` as a `Series` by using square brackets. For example, we can get the primary type of various Pokemon in the dataset by accessing the `type_1` column:"
   ]
  },
  {
   "cell_type": "code",
   "execution_count": 52,
   "metadata": {},
   "outputs": [],
   "source": [
    "pokemon_df[\"type_1\"]"
   ]
  },
  {
   "cell_type": "markdown",
   "metadata": {},
   "source": [
    "Note that the data type of the column above is a `Series`."
   ]
  },
  {
   "cell_type": "code",
   "execution_count": 53,
   "metadata": {},
   "outputs": [],
   "source": [
    "type(pokemon_df[\"type_1\"])"
   ]
  },
  {
   "cell_type": "markdown",
   "metadata": {},
   "source": [
    "Count the number of pokemon per primary type."
   ]
  },
  {
   "cell_type": "code",
   "execution_count": 54,
   "metadata": {},
   "outputs": [],
   "source": [
    "type_count_df = pokemon_df['type_1'].value_counts()\n",
    "type_count_df"
   ]
  },
  {
   "cell_type": "markdown",
   "metadata": {},
   "source": [
    "Bar plots are used to show the count of each value. They are only used for categorical data. Use the [`bar`](https://pandas.pydata.org/pandas-docs/stable/reference/api/pandas.DataFrame.plot.bar.html) function."
   ]
  },
  {
   "cell_type": "markdown",
   "metadata": {},
   "source": [
    "Let's create a plot to show the count per primary type of Pokemon."
   ]
  },
  {
   "cell_type": "code",
   "execution_count": 55,
   "metadata": {},
   "outputs": [],
   "source": [
    "type_count_df.plot.barh(figsize=(6,7)).invert_yaxis()\n",
    "plt.xlabel('Primary Type')\n",
    "plt.ylabel('Count')\n",
    "plt.title('Pokemon count per primary type')"
   ]
  },
  {
   "cell_type": "markdown",
   "metadata": {},
   "source": [
    "**Question #5:** What are the top 3 types with the highest Pokemon count?\n",
    "\n",
    "Answer: Water, Normal, Grass"
   ]
  },
  {
   "cell_type": "markdown",
   "metadata": {},
   "source": [
    "### What is the average base HP of a specific type of Pokemon?"
   ]
  },
  {
   "cell_type": "markdown",
   "metadata": {},
   "source": [
    "To answer this question, the variables of interest are:\n",
    "- **`type_1`**: primary type of the Pokemon\n",
    "- **`hp`**: base HP of the Pokemon"
   ]
  },
  {
   "cell_type": "markdown",
   "metadata": {},
   "source": [
    "Write code to select the `hp` column as a series."
   ]
  },
  {
   "cell_type": "code",
   "execution_count": 56,
   "metadata": {},
   "outputs": [],
   "source": [
    "# Write your code here\n",
    "pokemon_df[\"hp\"]\n",
    "type(pokemon_df[\"hp\"])"
   ]
  },
  {
   "cell_type": "markdown",
   "metadata": {},
   "source": [
    "We can also select a list of columns from the dataset by providing a list instead of the name of a single column. For example, we can select both the `type_1` and `hp` columns at the same time as follows:"
   ]
  },
  {
   "cell_type": "code",
   "execution_count": 57,
   "metadata": {},
   "outputs": [],
   "source": [
    "pokemon_df[[\"type_1\", \"hp\"]]"
   ]
  },
  {
   "cell_type": "markdown",
   "metadata": {},
   "source": [
    "Note that by doing this, we are getting a `DataFrame` (albeit a smaller one) instead of a `Series`."
   ]
  },
  {
   "cell_type": "code",
   "execution_count": 58,
   "metadata": {},
   "outputs": [],
   "source": [
    "type(pokemon_df[[\"type_1\", \"hp\"]])"
   ]
  },
  {
   "cell_type": "markdown",
   "metadata": {},
   "source": [
    "A good way to get an understanding of numerical values in the dataset is to use a histogram. Let's use a histogram to visualize the weight of all Pokemons in the dataset. To do this, we will call the [`hist`](https://pandas.pydata.org/pandas-docs/stable/reference/api/pandas.DataFrame.hist.html) function of the `DataFrame` which in turn calls the appropriate matplotlib function.\n",
    "\n",
    "Note that we also call the [`show`](https://matplotlib.org/api/_as_gen/matplotlib.pyplot.show.html) function of matplotlib to display only the graph."
   ]
  },
  {
   "cell_type": "code",
   "execution_count": 59,
   "metadata": {},
   "outputs": [],
   "source": [
    "pokemon_df.hist(\"weight_kg\", bins=30, edgecolor='w', figsize=(8, 4))\n",
    "plt.show()   # explicit call to show the chart (not needed with the matplotlib inline command)"
   ]
  },
  {
   "cell_type": "markdown",
   "metadata": {},
   "source": [
    "You can play around the `bins` parameter by changing its value above."
   ]
  },
  {
   "cell_type": "markdown",
   "metadata": {},
   "source": [
    "Let's say we want to investigate the base HP for normal Pokemons only. To do this, we have to consider **only the observations in which the `type_1` is `Normal`**."
   ]
  },
  {
   "cell_type": "code",
   "execution_count": 60,
   "metadata": {},
   "outputs": [],
   "source": [
    "pokemon_df[pokemon_df[\"type_1\"] == \"Normal\"]"
   ]
  },
  {
   "cell_type": "markdown",
   "metadata": {},
   "source": [
    "As you can see, the above query resulted into a new `DataFrame` containing only the Pokemons where `type_1` is `Normal`. For now, we will assign this new `DataFrame` into a new variable for convenience."
   ]
  },
  {
   "cell_type": "code",
   "execution_count": 61,
   "metadata": {},
   "outputs": [],
   "source": [
    "normal_pokemon_df = pokemon_df[pokemon_df[\"type_1\"] == \"Normal\"]"
   ]
  },
  {
   "cell_type": "markdown",
   "metadata": {},
   "source": [
    "Plot a histogram of the base HP of normal Pokemons."
   ]
  },
  {
   "cell_type": "code",
   "execution_count": 62,
   "metadata": {},
   "outputs": [],
   "source": [
    "# Write your code here\n",
    "pokemon_df.hist(\"hp\", bins=30, edgecolor='w', figsize=(8, 6))\n",
    "plt.show() "
   ]
  },
  {
   "cell_type": "markdown",
   "metadata": {},
   "source": [
    "**Question #6:** Which best describes the shape of the distribution of the base HP of normal Pokemons? (a) symmetric (b) positively-skewed (c) negatively-skewed (d) uniform\n",
    "\n",
    "Answer: (B) Positively Skewed"
   ]
  },
  {
   "cell_type": "markdown",
   "metadata": {},
   "source": [
    "We can also aggregate some summary statistics regarding the base HP using the [`agg`](https://pandas.pydata.org/pandas-docs/stable/reference/api/pandas.DataFrame.agg.html) function. Note that for this function, we pass a dictionary where the key is a column name and the corresponding value is a list of functions that we want to apply to that column. We can pass either an actual function **or** a string containing the name of a common function such as `\"mean\"` or `\"std\"`. \n",
    "\n",
    "Get the mean, standard deviation and length of the `hp` column."
   ]
  },
  {
   "cell_type": "code",
   "execution_count": 63,
   "metadata": {},
   "outputs": [],
   "source": [
    "normal_pokemon_df.agg({\"hp\": [\"mean\", \"std\", \"count\"]})"
   ]
  },
  {
   "cell_type": "markdown",
   "metadata": {},
   "source": [
    "Next, let's try to do the same thing for normal Pokemons which were introduced on or before the 5th generation. We can filter observations using multiple criteria by using `&` (and) and `|` (or). Note that these are not the normal `and` and `or` operators in Python. These are bitwise operators that perform element-wise operations on two boolean lists. "
   ]
  },
  {
   "cell_type": "code",
   "execution_count": 64,
   "metadata": {},
   "outputs": [],
   "source": [
    "normal_pokemon_5thgen_df = pokemon_df[(pokemon_df[\"type_1\"] == \"Normal\") & (pokemon_df[\"generation\"] <= 5)]\n",
    "normal_pokemon_5thgen_df"
   ]
  },
  {
   "cell_type": "markdown",
   "metadata": {},
   "source": [
    "Use the `agg` function to determine the **median** base HP of normal Pokemons introduced on or before the 5th generation."
   ]
  },
  {
   "cell_type": "code",
   "execution_count": 65,
   "metadata": {},
   "outputs": [],
   "source": [
    "# Write your code here\n",
    "normal_pokemon_5thgen_df = pokemon_df[(pokemon_df[\"type_1\"] == \"Normal\") & (pokemon_df[\"generation\"] <= 5)]\n",
    "median_hp = normal_pokemon_5thgen_df.agg({\"hp\": [\"median\"]})\n",
    "median_hp"
   ]
  },
  {
   "cell_type": "markdown",
   "metadata": {},
   "source": [
    "**Question #7:** What is the median base HP of normal Pokemons introduced on or before the 5th generation? Limit to 2 decimal places.\n",
    "\n",
    "Answer: 70.00"
   ]
  },
  {
   "cell_type": "markdown",
   "metadata": {},
   "source": [
    "### Which type has the highest average base attack?"
   ]
  },
  {
   "cell_type": "markdown",
   "metadata": {},
   "source": [
    "To answer this question, the variables of interest are:\n",
    "- **`type_1`**: primary type of the Pokemon\n",
    "- **`attack`**: base attack of the Pokemon"
   ]
  },
  {
   "cell_type": "markdown",
   "metadata": {},
   "source": [
    "Sometimes, we may want to form groups in the datasets and compute summary statistics for each group. For instance, to determine which type has a highest average base attack in the dataset, we need to compute the average for each type.\n",
    "\n",
    "To do this, we can use the [`groupby`](https://pandas.pydata.org/pandas-docs/stable/reference/api/pandas.DataFrame.groupby.html) function. The function will group the dataset using the value of the provided column name."
   ]
  },
  {
   "cell_type": "code",
   "execution_count": 66,
   "metadata": {},
   "outputs": [],
   "source": [
    "pokemon_df.groupby(\"type_1\")"
   ]
  },
  {
   "cell_type": "markdown",
   "metadata": {},
   "source": [
    "Get the mean and standard deviation of the base attack per Pokemon type."
   ]
  },
  {
   "cell_type": "code",
   "execution_count": 67,
   "metadata": {},
   "outputs": [],
   "source": [
    "pokemon_df.groupby(\"type_1\").agg({\"attack\": [\"mean\", \"std\"]})"
   ]
  },
  {
   "cell_type": "markdown",
   "metadata": {},
   "source": [
    "You can sort a `DataFrame` by a column using the `sort_values` function. Sort the resulting table above in descending order to easily see which type has the highest average base attack."
   ]
  },
  {
   "cell_type": "code",
   "execution_count": 68,
   "metadata": {},
   "outputs": [],
   "source": [
    "mean_df = pokemon_df.groupby(\"type_1\").agg({\"attack\": [\"mean\", \"std\"]})\n",
    "mean_df.sort_values((\"attack\", \"mean\"), ascending=False)"
   ]
  },
  {
   "cell_type": "markdown",
   "metadata": {},
   "source": [
    "Note that `sort_value` accepts the variable name you want to sort as the parameter. In this case, we pass in the **tuple** `(\"attack\", \"mean\")` because if you look at the `DataFrame` in the previous cell, we have a hierharchical structure for the column names where the first level is `attack`, and the `mean` column is under that column."
   ]
  },
  {
   "cell_type": "markdown",
   "metadata": {},
   "source": [
    "Find out which type has the highest median base attack. Make sure to sort the median values per type in descending order."
   ]
  },
  {
   "cell_type": "code",
   "execution_count": 69,
   "metadata": {},
   "outputs": [],
   "source": [
    "# Write your code here\n",
    "median_attack_df = pokemon_df.groupby(\"type_1\").agg({\"attack\": [\"median\"]})\n",
    "median_attack_df.sort_values((\"attack\", \"median\"), ascending=False)"
   ]
  },
  {
   "cell_type": "markdown",
   "metadata": {},
   "source": [
    "**Question #8:** If you can choose which Pokemon type to use, using only the average base attack as the basis for your decision, which type has the **best** average base attack?\n",
    "\n",
    "Answer: Fighting"
   ]
  },
  {
   "cell_type": "markdown",
   "metadata": {},
   "source": [
    "**Question #9:** In choosing the best Pokemon type according to base attack (previous question), would it be better to use mean or median? Why?\n",
    "\n",
    "Answer: Median. Its less affected by extreme values or outliers compared to the mean. Moreover, the median represents the middle value when all values are sorted, making it a better measure of the central tendency, especially for skewed distributions."
   ]
  },
  {
   "cell_type": "markdown",
   "metadata": {},
   "source": [
    "We can also visualize the base attack per type by using a side-by-side boxplot from the [`boxplot`](https://pandas.pydata.org/pandas-docs/stable/reference/api/pandas.DataFrame.boxplot.html) function of matplotlib. Notice that you can control the size of the figures in matplotlib using the `figsize` parameter (also works in other plots)."
   ]
  },
  {
   "cell_type": "code",
   "execution_count": 70,
   "metadata": {},
   "outputs": [],
   "source": [
    "pokemon_df.boxplot(\"attack\", by=\"type_1\", figsize=(15, 10))\n",
    "plt.show()"
   ]
  },
  {
   "cell_type": "markdown",
   "metadata": {},
   "source": [
    "### Which type has the highest average base defense?"
   ]
  },
  {
   "cell_type": "markdown",
   "metadata": {},
   "source": [
    "To answer this question, the variables of interest are:\n",
    "- **`type_1`**: primary type of the Pokemon\n",
    "- **`defense`**: base defense of the Pokemon"
   ]
  },
  {
   "cell_type": "markdown",
   "metadata": {},
   "source": [
    "Get the mean and standard deviation of the base defense per Pokemon type."
   ]
  },
  {
   "cell_type": "code",
   "execution_count": 71,
   "metadata": {},
   "outputs": [],
   "source": [
    "# Write your code here\n",
    "defense_mean_df = pokemon_df.groupby(\"type_1\").agg({\"defense\": [\"mean\", \"std\"]})\n",
    "defense_mean_df"
   ]
  },
  {
   "cell_type": "markdown",
   "metadata": {},
   "source": [
    "Sort the resulting table above in descending order to easily see which type has the highest average base defense."
   ]
  },
  {
   "cell_type": "code",
   "execution_count": 72,
   "metadata": {},
   "outputs": [],
   "source": [
    "# Write your code here\n",
    "sorted_defense_mean_df = defense_mean_df.sort_values((\"defense\", \"mean\"), ascending=False)\n",
    "sorted_defense_mean_df"
   ]
  },
  {
   "cell_type": "markdown",
   "metadata": {},
   "source": [
    "Find out which type has the highest median base defense. Make sure to sort the median values per type in descending order."
   ]
  },
  {
   "cell_type": "code",
   "execution_count": 73,
   "metadata": {},
   "outputs": [],
   "source": [
    "# Write your code here\n",
    "median_defense_df = pokemon_df.groupby(\"type_1\").agg({\"defense\": [\"median\"]})\n",
    "median_defense_df.sort_values((\"defense\", \"median\"), ascending=False)"
   ]
  },
  {
   "cell_type": "markdown",
   "metadata": {},
   "source": [
    "**Question #10:** Which type has the highest median base defense? What is its median base defense? Limit to 2 decimal places.\n",
    "\n",
    "Answer: 115.00"
   ]
  },
  {
   "cell_type": "markdown",
   "metadata": {},
   "source": [
    "Visualize the base defense per type by using a side-by-side boxplot from the [`boxplot`](https://pandas.pydata.org/pandas-docs/stable/reference/api/pandas.DataFrame.boxplot.html) function of matplotlib. "
   ]
  },
  {
   "cell_type": "code",
   "execution_count": 74,
   "metadata": {},
   "outputs": [],
   "source": [
    "# Write your code here\n",
    "pokemon_df.boxplot(\"defense\", by=\"type_1\", figsize=(15, 10))\n",
    "plt.show()"
   ]
  },
  {
   "cell_type": "markdown",
   "metadata": {},
   "source": [
    "**Question #11:** Based on the visualization alone, which type has the best base defense value? Why?\n",
    "\n",
    "Answer: Steel. The median line (green line inside the box) for Steel type is visibly higher than those of most other types, showing that the typical (middle) Steel Pokémon has a high defense value."
   ]
  },
  {
   "cell_type": "markdown",
   "metadata": {},
   "source": [
    "### Is there a relationship between `hp`, `attack`, `defense`?\n",
    "\n",
    "To answer this question, the variables of interest are:\n",
    "- **`hp`**: base HP of the Pokemon\n",
    "- **`attack`**: base attack of the Pokemon\n",
    "- **`defense`**: base defense of the Pokemon"
   ]
  },
  {
   "cell_type": "code",
   "execution_count": 75,
   "metadata": {},
   "outputs": [],
   "source": [
    "hp_atk_def = pokemon_df[['hp', 'attack', 'defense']]\n",
    "hp_atk_def"
   ]
  },
  {
   "cell_type": "markdown",
   "metadata": {},
   "source": [
    "When we want to understand the relationship of different variables, typically numerical/continuous variables, we can get the correlation between the variables and check how they are related."
   ]
  },
  {
   "cell_type": "code",
   "execution_count": 76,
   "metadata": {},
   "outputs": [],
   "source": [
    "hp_atk_def.corr()"
   ]
  },
  {
   "cell_type": "markdown",
   "metadata": {},
   "source": [
    "`pandas` has a built in `corr()` function which computes for the Pearson's correlation coefficient. The table created is called a correlation matrix.\n",
    "\n",
    "A good way to get a visual of the relationship of two variables is to use a scatter plot. Let's use a scatter plot to visualize the relationship of the HP and the attack stat of all Pokemons in the dataset.\n",
    "\n",
    "To do this, we can call the `scatter` function."
   ]
  },
  {
   "cell_type": "code",
   "execution_count": 77,
   "metadata": {},
   "outputs": [],
   "source": [
    "hp_atk_def.plot.scatter(x='hp', y='attack', alpha=0.5)\n",
    "plt.title('Relationship of Pokemon HP and Attack')"
   ]
  },
  {
   "cell_type": "markdown",
   "metadata": {},
   "source": [
    "From the correlation matrix above, the correlation of HP and attack is **0.442992**. It has a positive relationship, which means that as one value increases, the other value also increases. \n",
    "\n",
    "In most cases, to test whether the correlation is significant or not, a statistical test is performed. "
   ]
  },
  {
   "cell_type": "markdown",
   "metadata": {},
   "source": [
    "Now, let's look at the relationship of the Pokemons' attack and defense. \n",
    "\n",
    "Visualize the attack and defense of all Pokemons using a scatter plot."
   ]
  },
  {
   "cell_type": "code",
   "execution_count": 78,
   "metadata": {},
   "outputs": [],
   "source": [
    "# Write your code here\n",
    "atk_def = pokemon_df[['attack', 'defense']]\n",
    "atk_def.corr()\n",
    "hp_atk_def.plot.scatter(x='attack', y='defense', alpha=0.5)\n",
    "plt.title('Relationship of Pokemon Attack & Defense')"
   ]
  },
  {
   "cell_type": "markdown",
   "metadata": {},
   "source": [
    "**Question #12:** What can you say about the correlation of attack and defense? (a) positively correlated, (b) negatively correlated\n",
    "\n",
    "Answer: Positively Correlated. As the attack values increase, the defense values also tend to increase. This indicates a positive correlation between attack and defense."
   ]
  },
  {
   "cell_type": "markdown",
   "metadata": {},
   "source": [
    "## Conclusions\n",
    "\n",
    "Given that the dataset is rich with information, there are a lot more information and relationships that you can extract from the dataset. Try looking at each variable and ask more questions that may interest you and visualize them to confirm or deny your initial hypothesis!"
   ]
  }
 ],
 "metadata": {
  "kernelspec": {
   "display_name": "Python 3 (ipykernel)",
   "language": "python",
   "name": "python3"
  },
  "language_info": {
   "codemirror_mode": {
    "name": "ipython",
    "version": 3
   },
   "file_extension": ".py",
   "mimetype": "text/x-python",
   "name": "python",
   "nbconvert_exporter": "python",
   "pygments_lexer": "ipython3",
   "version": "3.12.6"
  }
 },
 "nbformat": 4,
 "nbformat_minor": 4
}
